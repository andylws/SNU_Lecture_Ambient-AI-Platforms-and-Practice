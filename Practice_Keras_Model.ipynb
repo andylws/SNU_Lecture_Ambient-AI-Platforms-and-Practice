{
  "cells": [
    {
      "cell_type": "markdown",
      "metadata": {
        "id": "view-in-github",
        "colab_type": "text"
      },
      "source": [
        "<a href=\"https://colab.research.google.com/github/andylws/SNU_Lecture_Ambient-AI-Platforms-and-Practice/blob/main/Practice_Keras_Model.ipynb\" target=\"_parent\"><img src=\"https://colab.research.google.com/assets/colab-badge.svg\" alt=\"Open In Colab\"/></a>"
      ]
    },
    {
      "cell_type": "markdown",
      "metadata": {
        "id": "kEp0zC6reVD5"
      },
      "source": [
        "# Tensorflow 2 Keras Model\n",
        "\n"
      ]
    },
    {
      "cell_type": "markdown",
      "metadata": {
        "id": "BmxOP-4VeVD9"
      },
      "source": [
        "Keras에서 모델을 만드는 방법은 크게 [Sequential API](https://www.tensorflow.org/guide/keras/sequential_model)를 이용하는 방법과 [Functional API](https://www.tensorflow.org/guide/keras/functional)를 이용하는 방법이 있습니다."
      ]
    },
    {
      "cell_type": "code",
      "execution_count": null,
      "metadata": {
        "id": "Dx_gQxMceVD-",
        "outputId": "27340171-2edb-47bb-b667-a470bd6b23b3"
      },
      "outputs": [
        {
          "name": "stderr",
          "output_type": "stream",
          "text": [
            "2022-08-07 15:37:23.141193: I tensorflow/stream_executor/platform/default/dso_loader.cc:53] Successfully opened dynamic library libcudart.so.11.0\n"
          ]
        }
      ],
      "source": [
        "import tensorflow as tf\n",
        "from tensorflow.keras.layers import Input, Dense, Conv2D, Concatenate, Flatten, Add, MaxPooling2D, GlobalAveragePooling2D"
      ]
    },
    {
      "cell_type": "markdown",
      "metadata": {
        "id": "xtf8yTNeeVEA"
      },
      "source": [
        "## Sequantial API\n",
        "\n",
        "`Sequential` API는 각 레이어에 **정확히 하나의 입력 텐서와 하나의 출력 텐서**가 있는 **일반 레이어 스택**에 적합합니다.  \n",
        "다음과 같이 모델을 만들 수 있습니다."
      ]
    },
    {
      "cell_type": "code",
      "execution_count": null,
      "metadata": {
        "scrolled": true,
        "id": "47M6T6uXeVEB",
        "outputId": "1a390c64-bd1b-4926-ef89-e8c7086e1d46"
      },
      "outputs": [
        {
          "name": "stderr",
          "output_type": "stream",
          "text": [
            "2022-08-07 15:37:27.448354: I tensorflow/stream_executor/platform/default/dso_loader.cc:53] Successfully opened dynamic library libcuda.so.1\n",
            "2022-08-07 15:37:27.538464: I tensorflow/core/common_runtime/gpu/gpu_device.cc:1733] Found device 0 with properties: \n",
            "pciBusID: 0000:1b:00.0 name: NVIDIA GeForce RTX 3090 computeCapability: 8.6\n",
            "coreClock: 1.695GHz coreCount: 82 deviceMemorySize: 23.70GiB deviceMemoryBandwidth: 871.81GiB/s\n",
            "2022-08-07 15:37:27.539927: I tensorflow/core/common_runtime/gpu/gpu_device.cc:1733] Found device 1 with properties: \n",
            "pciBusID: 0000:1d:00.0 name: NVIDIA GeForce RTX 3090 computeCapability: 8.6\n",
            "coreClock: 1.695GHz coreCount: 82 deviceMemorySize: 23.70GiB deviceMemoryBandwidth: 871.81GiB/s\n",
            "2022-08-07 15:37:27.541613: I tensorflow/core/common_runtime/gpu/gpu_device.cc:1733] Found device 2 with properties: \n",
            "pciBusID: 0000:3d:00.0 name: NVIDIA GeForce RTX 3090 computeCapability: 8.6\n",
            "coreClock: 1.695GHz coreCount: 82 deviceMemorySize: 23.70GiB deviceMemoryBandwidth: 871.81GiB/s\n",
            "2022-08-07 15:37:27.543277: I tensorflow/core/common_runtime/gpu/gpu_device.cc:1733] Found device 3 with properties: \n",
            "pciBusID: 0000:3f:00.0 name: NVIDIA GeForce RTX 3090 computeCapability: 8.6\n",
            "coreClock: 1.695GHz coreCount: 82 deviceMemorySize: 23.70GiB deviceMemoryBandwidth: 871.81GiB/s\n",
            "2022-08-07 15:37:27.543318: I tensorflow/stream_executor/platform/default/dso_loader.cc:53] Successfully opened dynamic library libcudart.so.11.0\n",
            "2022-08-07 15:37:27.548518: I tensorflow/stream_executor/platform/default/dso_loader.cc:53] Successfully opened dynamic library libcublas.so.11\n",
            "2022-08-07 15:37:27.548593: I tensorflow/stream_executor/platform/default/dso_loader.cc:53] Successfully opened dynamic library libcublasLt.so.11\n",
            "2022-08-07 15:37:27.549766: I tensorflow/stream_executor/platform/default/dso_loader.cc:53] Successfully opened dynamic library libcufft.so.10\n",
            "2022-08-07 15:37:27.550062: I tensorflow/stream_executor/platform/default/dso_loader.cc:53] Successfully opened dynamic library libcurand.so.10\n",
            "2022-08-07 15:37:27.550707: I tensorflow/stream_executor/platform/default/dso_loader.cc:53] Successfully opened dynamic library libcusolver.so.11\n",
            "2022-08-07 15:37:27.551777: I tensorflow/stream_executor/platform/default/dso_loader.cc:53] Successfully opened dynamic library libcusparse.so.11\n",
            "2022-08-07 15:37:27.551942: I tensorflow/stream_executor/platform/default/dso_loader.cc:53] Successfully opened dynamic library libcudnn.so.8\n",
            "2022-08-07 15:37:27.564198: I tensorflow/core/common_runtime/gpu/gpu_device.cc:1871] Adding visible gpu devices: 0, 1, 2, 3\n",
            "2022-08-07 15:37:27.564768: I tensorflow/core/platform/cpu_feature_guard.cc:142] This TensorFlow binary is optimized with oneAPI Deep Neural Network Library (oneDNN) to use the following CPU instructions in performance-critical operations:  AVX2 AVX512F FMA\n",
            "To enable them in other operations, rebuild TensorFlow with the appropriate compiler flags.\n",
            "2022-08-07 15:37:28.083388: I tensorflow/core/common_runtime/gpu/gpu_device.cc:1733] Found device 0 with properties: \n",
            "pciBusID: 0000:1b:00.0 name: NVIDIA GeForce RTX 3090 computeCapability: 8.6\n",
            "coreClock: 1.695GHz coreCount: 82 deviceMemorySize: 23.70GiB deviceMemoryBandwidth: 871.81GiB/s\n",
            "2022-08-07 15:37:28.084810: I tensorflow/core/common_runtime/gpu/gpu_device.cc:1733] Found device 1 with properties: \n",
            "pciBusID: 0000:1d:00.0 name: NVIDIA GeForce RTX 3090 computeCapability: 8.6\n",
            "coreClock: 1.695GHz coreCount: 82 deviceMemorySize: 23.70GiB deviceMemoryBandwidth: 871.81GiB/s\n",
            "2022-08-07 15:37:28.086402: I tensorflow/core/common_runtime/gpu/gpu_device.cc:1733] Found device 2 with properties: \n",
            "pciBusID: 0000:3d:00.0 name: NVIDIA GeForce RTX 3090 computeCapability: 8.6\n",
            "coreClock: 1.695GHz coreCount: 82 deviceMemorySize: 23.70GiB deviceMemoryBandwidth: 871.81GiB/s\n",
            "2022-08-07 15:37:28.087981: I tensorflow/core/common_runtime/gpu/gpu_device.cc:1733] Found device 3 with properties: \n",
            "pciBusID: 0000:3f:00.0 name: NVIDIA GeForce RTX 3090 computeCapability: 8.6\n",
            "coreClock: 1.695GHz coreCount: 82 deviceMemorySize: 23.70GiB deviceMemoryBandwidth: 871.81GiB/s\n",
            "2022-08-07 15:37:28.099123: I tensorflow/core/common_runtime/gpu/gpu_device.cc:1871] Adding visible gpu devices: 0, 1, 2, 3\n",
            "2022-08-07 15:37:28.099201: I tensorflow/stream_executor/platform/default/dso_loader.cc:53] Successfully opened dynamic library libcudart.so.11.0\n",
            "2022-08-07 15:37:30.012959: I tensorflow/core/common_runtime/gpu/gpu_device.cc:1258] Device interconnect StreamExecutor with strength 1 edge matrix:\n",
            "2022-08-07 15:37:30.013013: I tensorflow/core/common_runtime/gpu/gpu_device.cc:1264]      0 1 2 3 \n",
            "2022-08-07 15:37:30.013021: I tensorflow/core/common_runtime/gpu/gpu_device.cc:1277] 0:   N N N N \n",
            "2022-08-07 15:37:30.013025: I tensorflow/core/common_runtime/gpu/gpu_device.cc:1277] 1:   N N N N \n",
            "2022-08-07 15:37:30.013029: I tensorflow/core/common_runtime/gpu/gpu_device.cc:1277] 2:   N N N N \n",
            "2022-08-07 15:37:30.013033: I tensorflow/core/common_runtime/gpu/gpu_device.cc:1277] 3:   N N N N \n",
            "2022-08-07 15:37:30.024359: I tensorflow/core/common_runtime/gpu/gpu_device.cc:1418] Created TensorFlow device (/job:localhost/replica:0/task:0/device:GPU:0 with 19799 MB memory) -> physical GPU (device: 0, name: NVIDIA GeForce RTX 3090, pci bus id: 0000:1b:00.0, compute capability: 8.6)\n",
            "2022-08-07 15:37:30.026051: I tensorflow/core/common_runtime/gpu/gpu_device.cc:1418] Created TensorFlow device (/job:localhost/replica:0/task:0/device:GPU:1 with 17368 MB memory) -> physical GPU (device: 1, name: NVIDIA GeForce RTX 3090, pci bus id: 0000:1d:00.0, compute capability: 8.6)\n",
            "2022-08-07 15:37:30.027796: I tensorflow/core/common_runtime/gpu/gpu_device.cc:1418] Created TensorFlow device (/job:localhost/replica:0/task:0/device:GPU:2 with 22318 MB memory) -> physical GPU (device: 2, name: NVIDIA GeForce RTX 3090, pci bus id: 0000:3d:00.0, compute capability: 8.6)\n",
            "2022-08-07 15:37:30.029551: I tensorflow/core/common_runtime/gpu/gpu_device.cc:1418] Created TensorFlow device (/job:localhost/replica:0/task:0/device:GPU:3 with 22318 MB memory) -> physical GPU (device: 3, name: NVIDIA GeForce RTX 3090, pci bus id: 0000:3f:00.0, compute capability: 8.6)\n"
          ]
        }
      ],
      "source": [
        "# list에 layer를 차례대로 넣습니다\n",
        "model_seq1 = tf.keras.Sequential([\n",
        "    Dense(100),\n",
        "    Dense(200),\n",
        "    Dense(300)\n",
        "])"
      ]
    },
    {
      "cell_type": "markdown",
      "metadata": {
        "id": "Zix4xb-WeVEB"
      },
      "source": [
        "다음과 같이 `add` 메서드를 이용해서 하나씩 레이어를 추가할 수 있습니다."
      ]
    },
    {
      "cell_type": "code",
      "execution_count": null,
      "metadata": {
        "id": "2hmIF_ObeVEC"
      },
      "outputs": [],
      "source": [
        "model_seq2 = tf.keras.Sequential()\n",
        "model_seq2.add(Dense(100))\n",
        "model_seq2.add(Dense(200))\n",
        "model_seq2.add(Dense(300))"
      ]
    },
    {
      "cell_type": "markdown",
      "metadata": {
        "id": "38BId-jieVEC"
      },
      "source": [
        "## Functional API\n",
        "`Functional` API는 `Sequential`API보다 더 유연한 모델을 만들 수 있습니다. 위에서 만든 모델을 `Functional` API를 이용해서 만들어 보겠습니다."
      ]
    },
    {
      "cell_type": "code",
      "execution_count": null,
      "metadata": {
        "id": "yGAuDwlqeVEC"
      },
      "outputs": [],
      "source": [
        "inputs = Input(shape=(784)) #먼저 Input layer를 만듭니다. shape는 임의로 설정했습니다.\n",
        "x = Dense(100)(inputs) # 각 layer의 output을 다음 layer의 input으로 넣어주면 됩니다.\n",
        "x = Dense(200)(x)\n",
        "outputs = Dense(300)(x)\n",
        "\n",
        "model_func = tf.keras.Model(inputs=inputs, outputs=outputs) #마지막엔 tf.keras.Model을 이용합니다."
      ]
    },
    {
      "cell_type": "markdown",
      "metadata": {
        "id": "OB9jivMQeVED"
      },
      "source": [
        "이번에는 다양한 구조의 모델을 `Functional` API를 이용해서 만들어 보겠습니다."
      ]
    },
    {
      "cell_type": "markdown",
      "metadata": {
        "id": "DOPpas8MeVED"
      },
      "source": [
        "### Residual connection (Skip connection)\n",
        "\n",
        "residual connection은 특정 layer의 output이 이후의 몇개 layer를 통과하지 않고 우회하는 connection입니다.\n",
        "아래와 같은 구조의 모델을 만들어 보겠습니다. 각 Dense layer의 node 갯수는 100개이고, ReLU Activation을 사용합니다.\n",
        "![model_res.png](attachment:model_res.png)"
      ]
    },
    {
      "cell_type": "code",
      "execution_count": null,
      "metadata": {
        "id": "BiRbgMPTeVEE"
      },
      "outputs": [],
      "source": [
        "inputs = Input(shape=(28, 28, 1))\n",
        "###### 아래 빈칸. 실습하면서 완성 #####\n",
        "\n",
        "\n",
        "###### 빈칸 끝 ##### \n",
        "\n",
        "model_res = tf.keras.Model(inputs=inputs, outputs= outputs)"
      ]
    },
    {
      "cell_type": "code",
      "execution_count": null,
      "metadata": {
        "id": "-XIVFQUBeVEE",
        "outputId": "03b37a7d-98cc-4527-d84c-283d35800a77"
      },
      "outputs": [
        {
          "name": "stdout",
          "output_type": "stream",
          "text": [
            "Requirement already satisfied: pydot in /home/keondopark/anaconda3/envs/tf_3090/lib/python3.8/site-packages (1.4.2)\r\n",
            "Requirement already satisfied: pydotplus in /home/keondopark/anaconda3/envs/tf_3090/lib/python3.8/site-packages (2.0.2)\r\n",
            "Requirement already satisfied: graphviz in /home/keondopark/anaconda3/envs/tf_3090/lib/python3.8/site-packages (0.20.1)\r\n",
            "Requirement already satisfied: pyparsing>=2.1.4 in /home/keondopark/anaconda3/envs/tf_3090/lib/python3.8/site-packages (from pydot) (3.0.6)\r\n"
          ]
        }
      ],
      "source": [
        "!pip install pydot pydotplus graphviz #then kernel restart"
      ]
    },
    {
      "cell_type": "markdown",
      "metadata": {
        "id": "7QBtu982eVEF"
      },
      "source": [
        "`tf.keras.utils.plot_model`을 이용하면 모델 시각화가 가능합니다. 위에 있는 그림과 동일하게 출력되는지 확인해 봅시다."
      ]
    },
    {
      "cell_type": "code",
      "execution_count": null,
      "metadata": {
        "scrolled": false,
        "id": "RVfDVzOseVEF",
        "outputId": "31abe330-5fe3-4c54-ad13-29e37033bd59"
      },
      "outputs": [
        {
          "data": {
            "image/png": "[encoded data removed]",
            "text/plain": [
              "<IPython.core.display.Image object>"
            ]
          },
          "execution_count": 23,
          "metadata": {},
          "output_type": "execute_result"
        }
      ],
      "source": [
        "# This may not work if graphviz is not installed.. you need to install by apt-get install\n",
        "tf.keras.utils.plot_model(model_res, to_file='model_res.png')"
      ]
    },
    {
      "cell_type": "markdown",
      "metadata": {
        "id": "gvF4AOz0eVEG"
      },
      "source": [
        "### Multiple inputs / outputs (Inception structure)\n",
        "\n",
        "특정 layer의 output을 여러 layer가 동시에 input으로 이용하는 경우, 여러 layer의 output이 하나의 layer의 input으로 들어가는 경우도 가능합니다.\n",
        "\n",
        "아래 셀의 출력에 표시된 그림과 같은 구조의 모델을 만들어 보겠습니다. <br>\n",
        "각 Dense layer의 Node 갯수는 100개이고 ReLU activation을 사용합니다. 단, 마지막 Dense layer는 Softmax activation을 사용합니다.\n",
        "![model_multi.png](attachment:model_multi.png)"
      ]
    },
    {
      "cell_type": "code",
      "execution_count": null,
      "metadata": {
        "id": "Jg_VSVYZeVEH"
      },
      "outputs": [],
      "source": [
        "inputs = Input(shape=(28, 28, 1))\n",
        "x1 = Dense(100, activation='relu')(inputs)\n",
        "###### 아래 빈칸. 실습하면서 완성 #####\n",
        "\n",
        "###### 빈칸 끝 ##### \n",
        "model_multi = tf.keras.Model(inputs=inputs, outputs=outputs) "
      ]
    },
    {
      "cell_type": "markdown",
      "metadata": {
        "id": "GR28tpC2eVEH"
      },
      "source": [
        "시각화를 통해 동일한 구조로 출력되는지 확인해 봅시다."
      ]
    },
    {
      "cell_type": "code",
      "execution_count": null,
      "metadata": {
        "scrolled": false,
        "id": "bFLjOzVbeVEI"
      },
      "outputs": [],
      "source": [
        "tf.keras.utils.plot_model(model_multi, to_file='model_multi.png')"
      ]
    },
    {
      "cell_type": "markdown",
      "metadata": {
        "id": "hNb3vVrAeVEI"
      },
      "source": [
        "### Sharing layer\n",
        "\n",
        "아래의 그림처럼 두 개의 모델이 특정 layer를 공유할 수도 있습니다.\n",
        "![model_share.png](attachment:model_share.png)"
      ]
    },
    {
      "cell_type": "code",
      "execution_count": null,
      "metadata": {
        "id": "KT8MCtdseVEJ"
      },
      "outputs": [],
      "source": [
        "# 공유할 layer\n",
        "layer_share = Dense(100, activation='relu')\n",
        "\n",
        "# Model 1\n",
        "inputs1 = Input(shape=(28, 28, 1))\n",
        "###### 아래 빈칸. 실습하면서 완성 #####\n",
        "\n",
        "\n",
        "###### 빈칸 끝 ##### \n",
        "model1 = tf.keras.Model(inputs=inputs1, outputs=outputs1)\n",
        "\n",
        "\n",
        "# Model 2\n",
        "inputs2 = Input(shape=(32, 32, 3))\n",
        "###### 아래 빈칸. 실습하면서 완성 #####\n",
        "\n",
        "\n",
        "###### 빈칸 끝 ##### \n",
        "outputs2 = Dense(10, activation='softmax')(x2)\n",
        "model2 = tf.keras.Model(inputs=inputs2, outputs=outputs2)"
      ]
    }
  ],
  "metadata": {
    "kernelspec": {
      "display_name": "Python 3 (ipykernel)",
      "language": "python",
      "name": "python3"
    },
    "language_info": {
      "codemirror_mode": {
        "name": "ipython",
        "version": 3
      },
      "file_extension": ".py",
      "mimetype": "text/x-python",
      "name": "python",
      "nbconvert_exporter": "python",
      "pygments_lexer": "ipython3",
      "version": "3.8.0"
    },
    "colab": {
      "provenance": [],
      "include_colab_link": true
    }
  },
  "nbformat": 4,
  "nbformat_minor": 0
}