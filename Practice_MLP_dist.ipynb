{
  "cells": [
    {
      "cell_type": "markdown",
      "metadata": {
        "id": "view-in-github",
        "colab_type": "text"
      },
      "source": [
        "<a href=\"https://colab.research.google.com/github/andylws/SNU_Lecture_Ambient-AI-Platforms-and-Practice/blob/main/Practice_MLP_dist.ipynb\" target=\"_parent\"><img src=\"https://colab.research.google.com/assets/colab-badge.svg\" alt=\"Open In Colab\"/></a>"
      ]
    },
    {
      "cell_type": "markdown",
      "metadata": {
        "id": "zvPB-BX_hgX-"
      },
      "source": [
        "# Tensorflow 2를 활용한 Multi Layer Perceptron 실습\n",
        "이번 실습에서는 Tensorflow 2를 활용하여 가장 간단한 Neural Network 구조인 MLP(Multi Layer Perceptron)을 직접 생성해 본다.<br>\n",
        "입문과정용으로 많이 쓰이는 Fashion MNIST dataset을 이용하여 옷의 종류를 구분해보는 Neural Network를 만들어 볼 것이다. <br>\n",
        "먼저 Tensorflow를 Import한다."
      ]
    },
    {
      "cell_type": "code",
      "execution_count": null,
      "metadata": {
        "id": "lPurhqAPhgYA"
      },
      "outputs": [],
      "source": [
        "import tensorflow as tf"
      ]
    },
    {
      "cell_type": "markdown",
      "metadata": {
        "id": "shot-I-whgYB"
      },
      "source": [
        "## Dataset 불러오기\n",
        "Tensorflow에서는 Fashion MNIST dataset을 불러오기 편하도록 Library에 기본 함수로 지정해 두었다. 아래 명령어를 수행하여 데이터셋을 로드하고, Train/Test set으로 구분해 주자.<br>\n",
        "Fashion MNIST는 총 10개의 class가 있고, 각 이미지별로 0~9의 Label이 지정되어 있다. 0은 T-shirt/top, 1은 Trouser,..에 해당하고, 이를 식별하기 쉽게 class_names에 저장해 두자."
      ]
    },
    {
      "cell_type": "code",
      "execution_count": null,
      "metadata": {
        "id": "elDLiczBhgYC",
        "colab": {
          "base_uri": "https://localhost:8080/"
        },
        "outputId": "1caa7bf6-21f3-4a49-8141-3e8a5ce30689"
      },
      "outputs": [
        {
          "output_type": "stream",
          "name": "stdout",
          "text": [
            "Downloading data from https://storage.googleapis.com/tensorflow/tf-keras-datasets/train-labels-idx1-ubyte.gz\n",
            "29515/29515 [==============================] - 0s 0us/step\n",
            "Downloading data from https://storage.googleapis.com/tensorflow/tf-keras-datasets/train-images-idx3-ubyte.gz\n",
            "26421880/26421880 [==============================] - 0s 0us/step\n",
            "Downloading data from https://storage.googleapis.com/tensorflow/tf-keras-datasets/t10k-labels-idx1-ubyte.gz\n",
            "5148/5148 [==============================] - 0s 0us/step\n",
            "Downloading data from https://storage.googleapis.com/tensorflow/tf-keras-datasets/t10k-images-idx3-ubyte.gz\n",
            "4422102/4422102 [==============================] - 0s 0us/step\n"
          ]
        }
      ],
      "source": [
        "fashion_mnist = tf.keras.datasets.fashion_mnist\n",
        "\n",
        "#Load data\n",
        "###### 아래 빈칸. 실습하면서 완성 #####\n",
        "(x_train, y_train), (x_test, y_test) = fashion_mnist.load_data()\n",
        "\n",
        "###### 빈칸 끝 ##### \n",
        "\n",
        "class_names = ['T-shirt/top', 'Trouser', 'Pullover', 'Dress', 'Coat',\n",
        "               'Sandal', 'Shirt', 'Sneaker', 'Bag', 'Ankle boot']\n",
        "\n",
        "\n",
        "#Split train set into train/valid set\n",
        "from sklearn import model_selection\n",
        "\n",
        "###### 아래 빈칸. 실습하면서 완성 #####\n",
        "# model_selection.train_test_split 사용\n",
        "# x_train, y_train을 0.8:0.2 비율로 나누어 x_train, x_valid, y_train, y_valid로 나누기\n",
        "x_train, x_valid, y_train, y_valid = model_selection.train_test_split(x_train, y_train, test_size=0.2)\n",
        "\n",
        "###### 빈칸 끝 ##### \n"
      ]
    },
    {
      "cell_type": "markdown",
      "metadata": {
        "id": "PVhuRsRRhgYC"
      },
      "source": [
        "데이터를 보고 싶으면 matplotlib를 이용하여 확인할 수 있다."
      ]
    },
    {
      "cell_type": "code",
      "execution_count": null,
      "metadata": {
        "id": "Zh46qAtOhgYD"
      },
      "outputs": [],
      "source": [
        "import matplotlib.pyplot as plt"
      ]
    },
    {
      "cell_type": "code",
      "execution_count": null,
      "metadata": {
        "id": "UtJ-Sd0ThgYD",
        "outputId": "caa21f37-6775-4094-8d52-77d6680b2ac2",
        "colab": {
          "base_uri": "https://localhost:8080/",
          "height": 265
        }
      },
      "outputs": [
        {
          "output_type": "display_data",
          "data": {
            "text/plain": [
              "<Figure size 432x288 with 2 Axes>"
            ],
            "image/png": "[encoded data removed]"
          },
          "metadata": {
            "needs_background": "light"
          }
        }
      ],
      "source": [
        "#Let's look at the sample data\n",
        "plt.figure()\n",
        "plt.imshow(x_train[0])\n",
        "plt.colorbar()\n",
        "plt.grid(False)\n",
        "plt.show()"
      ]
    },
    {
      "cell_type": "markdown",
      "metadata": {
        "id": "vm_1lTVYhgYE"
      },
      "source": [
        "## Model 구성하기\n",
        "이제 아주 간단한 Model을 구성해 볼 것이다.\n",
        "Tensorflow2에서 제공하는 keras의 sequential API를 사용하면 원하는 Layer를 차곡차곡 쌓아가면서 모델을 구성할 수 있다. <br>\n",
        "아래 그림과 같은 구조로 모델을 구성할 것이다.\n",
        "![MLP.png](attachment:MLP.png)\n",
        "- 28x28 image를 Input으로 받아서 1차원으로 쭉 편 다음,<br> \n",
        "- 128개 Node를 가지는 Hidden MLP layer를 연결하고 Relu activation을 한 번 거친 후에, <br>\n",
        "- 20%를 랜덤으로 누락시키는 Drop Out를 수행한 뒤 <br>\n",
        "- 10개의 Node를 갖는 MLP Layer를 연결하고 Softmax를 수행한다.<br>\n",
        "\n",
        "위와 같은 작업을 수행하기 위해 `tf.keras.layers`를 활용 가능하다. 그중에서도 MLP 구성을 위해서는 아래의 Layer들을 활용할 수 있다.\n",
        "- `Flatten(input_shape=(x,y,z))`: (x,y,z) 형태의 Input을 받아서 1차원 배열로 바꾸어주는 Layer이다.\n",
        "- `Dense(N, activation=activation)`: 이전 레이어를 Input으로 하고 N만큼을 Output Node로 갖는 Neural Network를 구성한다. activation을 넣어주면 계산된 값에 Activation을 적용한다.(예: ReLU, Softmax 등)\n",
        "- `Dropout(p)`: 이전 레이어의 Node의 값을 p만큼의 비율로 0으로 만들어 준다."
      ]
    },
    {
      "cell_type": "code",
      "execution_count": null,
      "metadata": {
        "id": "HQL6VGeihgYF"
      },
      "outputs": [],
      "source": [
        "model = tf.keras.models.Sequential([\n",
        "    ###### 아래 빈칸. 실습하면서 완성 #####\n",
        "    tf.keras.layers.Flatten(input_shape=(28,28)),\n",
        "    tf.keras.layers.Dense(128, activation='relu'),\n",
        "    tf.keras.layers.Dropout(0.2),\n",
        "    tf.keras.layers.Dense(10, activation='softmax')\n",
        "    ###### 빈칸 끝 ##### \n",
        "])"
      ]
    },
    {
      "cell_type": "markdown",
      "metadata": {
        "id": "KFQGPGvFhgYF"
      },
      "source": [
        "다음으로 Loss, Optimizer, Metrics등을 정의하여 모델을 컴파일해준다.<br>\n",
        "- 10개 중 하나로 Classification하는 문제이므로 `SparseCategoricalCrossentropy`를 Loss로 사용해준다. Loss는 `tf.keras.losses` 라이브러리를 사용할 수 있다.\n",
        "- Optimizer는 가장 널리 쓰이는 방법론 중 하나인 Adam을 사용하자. Optimizer는 `tf.keras.optimizers` 라이브러리를 사용할 수 있다."
      ]
    },
    {
      "cell_type": "code",
      "execution_count": null,
      "metadata": {
        "id": "6Zkp4faphgYF",
        "colab": {
          "base_uri": "https://localhost:8080/"
        },
        "outputId": "ecfa2e56-fb08-4c0c-e75c-8cf1ac74a2e5"
      },
      "outputs": [
        {
          "output_type": "stream",
          "name": "stderr",
          "text": [
            "/usr/local/lib/python3.8/dist-packages/keras/optimizers/optimizer_v2/adam.py:110: UserWarning: The `lr` argument is deprecated, use `learning_rate` instead.\n",
            "  super(Adam, self).__init__(name, **kwargs)\n"
          ]
        }
      ],
      "source": [
        "###### 아래 빈칸. 실습하면서 완성 #####\n",
        "loss_fn = tf.keras.losses.SparseCategoricalCrossentropy()\n",
        "optim_fn = tf.keras.optimizers.Adam(lr=0.001)\n",
        "###### 빈칸 끝 #####"
      ]
    },
    {
      "cell_type": "code",
      "execution_count": null,
      "metadata": {
        "id": "TE6rC0nnhgYG"
      },
      "outputs": [],
      "source": [
        "model.compile(optimizer=optim_fn,\n",
        "              loss=loss_fn,\n",
        "              metrics=['accuracy'])"
      ]
    },
    {
      "cell_type": "code",
      "execution_count": null,
      "metadata": {
        "id": "01BaB7XghgYG",
        "outputId": "635c383b-8ea1-44e5-98f0-6cab78339138",
        "colab": {
          "base_uri": "https://localhost:8080/"
        }
      },
      "outputs": [
        {
          "output_type": "stream",
          "name": "stdout",
          "text": [
            "Model: \"sequential\"\n",
            "_________________________________________________________________\n",
            " Layer (type)                Output Shape              Param #   \n",
            "=================================================================\n",
            " flatten (Flatten)           (None, 784)               0         \n",
            "                                                                 \n",
            " dense (Dense)               (None, 128)               100480    \n",
            "                                                                 \n",
            " dropout (Dropout)           (None, 128)               0         \n",
            "                                                                 \n",
            " dense_1 (Dense)             (None, 10)                1290      \n",
            "                                                                 \n",
            "=================================================================\n",
            "Total params: 101,770\n",
            "Trainable params: 101,770\n",
            "Non-trainable params: 0\n",
            "_________________________________________________________________\n"
          ]
        }
      ],
      "source": [
        "model.summary()"
      ]
    },
    {
      "cell_type": "markdown",
      "metadata": {
        "id": "3uc0XEinhgYG"
      },
      "source": [
        "## 모델 트레이닝\n",
        "model.fit 명령어를 이용하면 우리가 구성한 모델을 트레이닝할 수 있다."
      ]
    },
    {
      "cell_type": "code",
      "execution_count": null,
      "metadata": {
        "id": "jO7WMBzlhgYG",
        "outputId": "25acbe8a-77a2-4792-c2d0-a71cf00e1828",
        "colab": {
          "base_uri": "https://localhost:8080/"
        }
      },
      "outputs": [
        {
          "output_type": "stream",
          "name": "stdout",
          "text": [
            "Epoch 1/10\n",
            "1500/1500 [==============================] - 8s 5ms/step - loss: 2.6920 - accuracy: 0.5934 - val_loss: 0.8303 - val_accuracy: 0.6998\n",
            "Epoch 2/10\n",
            "1500/1500 [==============================] - 6s 4ms/step - loss: 0.9282 - accuracy: 0.6440 - val_loss: 0.6899 - val_accuracy: 0.7460\n",
            "Epoch 3/10\n",
            "1500/1500 [==============================] - 6s 4ms/step - loss: 0.8563 - accuracy: 0.6678 - val_loss: 0.6669 - val_accuracy: 0.7282\n",
            "Epoch 4/10\n",
            "1500/1500 [==============================] - 6s 4ms/step - loss: 0.8431 - accuracy: 0.6765 - val_loss: 0.6435 - val_accuracy: 0.7692\n",
            "Epoch 5/10\n",
            "1500/1500 [==============================] - 6s 4ms/step - loss: 0.8058 - accuracy: 0.6878 - val_loss: 0.6251 - val_accuracy: 0.7735\n",
            "Epoch 6/10\n",
            "1500/1500 [==============================] - 7s 4ms/step - loss: 0.7925 - accuracy: 0.6954 - val_loss: 0.7569 - val_accuracy: 0.6819\n",
            "Epoch 7/10\n",
            "1500/1500 [==============================] - 6s 4ms/step - loss: 0.7668 - accuracy: 0.7097 - val_loss: 0.5988 - val_accuracy: 0.7653\n",
            "Epoch 8/10\n",
            "1500/1500 [==============================] - 6s 4ms/step - loss: 0.7757 - accuracy: 0.7065 - val_loss: 0.6625 - val_accuracy: 0.6728\n",
            "Epoch 9/10\n",
            "1500/1500 [==============================] - 7s 4ms/step - loss: 0.7665 - accuracy: 0.7162 - val_loss: 0.5801 - val_accuracy: 0.7851\n",
            "Epoch 10/10\n",
            "1500/1500 [==============================] - 6s 4ms/step - loss: 0.7564 - accuracy: 0.7173 - val_loss: 0.5931 - val_accuracy: 0.7791\n"
          ]
        }
      ],
      "source": [
        "hist = model.fit(x_train, y_train, epochs=10, validation_data=(x_valid, y_valid))"
      ]
    },
    {
      "cell_type": "markdown",
      "metadata": {
        "id": "zPCtkYfKhgYH"
      },
      "source": [
        "## 트레이닝 결과 확인\n",
        "트레이닝이 진행됨에 따라 Loss는 줄어들고 Accuracy는 올라가야 할 것이고,<br>\n",
        "이런 트렌드가 관찰되지 않는다면 무언가 잘못되었다고 볼 수 있다. <br>\n",
        "그래프를 그려서 실제로 이런 트렌드가 관찰되는지 확인해 보자."
      ]
    },
    {
      "cell_type": "code",
      "execution_count": null,
      "metadata": {
        "id": "Lrpf4SHWhgYH",
        "outputId": "832d760b-ffd9-4240-afff-0959d5d36164",
        "colab": {
          "base_uri": "https://localhost:8080/",
          "height": 513
        }
      },
      "outputs": [
        {
          "output_type": "display_data",
          "data": {
            "text/plain": [
              "<Figure size 576x576 with 2 Axes>"
            ],
            "image/png": "[encoded data removed]"
          },
          "metadata": {
            "needs_background": "light"
          }
        }
      ],
      "source": [
        "# Get Training accuray & Validation accuracy from history\n",
        "acc = hist.history['accuracy']\n",
        "val_acc = hist.history['val_accuracy']\n",
        "\n",
        "# Get Training loss & Validation loss from history\n",
        "loss = hist.history['loss']\n",
        "val_loss = hist.history['val_loss']\n",
        "\n",
        "# Let's visualize accuracy\n",
        "plt.figure(figsize=(8, 8))\n",
        "plt.subplot(2, 1, 1)\n",
        "plt.plot(acc, label='Training Accuracy')\n",
        "plt.plot(val_acc, label='Validation Accuracy')\n",
        "plt.legend(loc='lower right')\n",
        "plt.ylabel('Accuracy')\n",
        "plt.ylim([min(plt.ylim()),1])\n",
        "plt.title('Training and Validation Accuracy')\n",
        "\n",
        "# Let's visualize loss\n",
        "plt.subplot(2, 1, 2)\n",
        "plt.plot(loss, label='Training Loss')\n",
        "plt.plot(val_loss, label='Validation Loss')\n",
        "plt.legend(loc='upper right')\n",
        "plt.ylabel('Cross Entropy')\n",
        "plt.ylim([0,3.0])\n",
        "plt.title('Training and Validation Loss')\n",
        "plt.xlabel('epoch')\n",
        "plt.show()"
      ]
    },
    {
      "cell_type": "markdown",
      "metadata": {
        "id": "6wEhjRpOhgYH"
      },
      "source": [
        "`model.evaluate` 함수를 통해 Test set에 대해서도 Accuracy가 잘 나오는지 확인해 보자."
      ]
    },
    {
      "cell_type": "code",
      "execution_count": null,
      "metadata": {
        "id": "gVSHaPF5hgYH",
        "outputId": "4a2e5795-8f5a-4b49-95d3-8b3b3ec238f9",
        "colab": {
          "base_uri": "https://localhost:8080/"
        }
      },
      "outputs": [
        {
          "output_type": "stream",
          "name": "stdout",
          "text": [
            "313/313 - 1s - loss: 0.6090 - accuracy: 0.7726 - 651ms/epoch - 2ms/step\n"
          ]
        },
        {
          "output_type": "execute_result",
          "data": {
            "text/plain": [
              "[0.6089506149291992, 0.772599995136261]"
            ]
          },
          "metadata": {},
          "execution_count": 12
        }
      ],
      "source": [
        "model.evaluate(x_test, y_test, verbose=2)"
      ]
    },
    {
      "cell_type": "code",
      "execution_count": null,
      "metadata": {
        "id": "TyIa6X9whgYH",
        "colab": {
          "base_uri": "https://localhost:8080/"
        },
        "outputId": "adff8c0f-45f3-4606-dbb3-532420559e62"
      },
      "outputs": [
        {
          "output_type": "stream",
          "name": "stdout",
          "text": [
            "313/313 [==============================] - 1s 2ms/step\n"
          ]
        }
      ],
      "source": [
        "predictions = model.predict(x_test)"
      ]
    },
    {
      "cell_type": "markdown",
      "metadata": {
        "id": "HhWXs7LLhgYI"
      },
      "source": [
        "Test set에서 하나의 샘플을 추출하여 정답과 예측 결과를 비교해 볼 수도 있다."
      ]
    },
    {
      "cell_type": "code",
      "execution_count": null,
      "metadata": {
        "id": "hSV9SN6xhgYI"
      },
      "outputs": [],
      "source": [
        "import numpy as np\n",
        "#Plot image with label\n",
        "def plot_image(i, predictions_array, true_label, img):\n",
        "    predictions_array, true_label, img = predictions_array[i], true_label[i], img[i]\n",
        "    plt.grid(False)\n",
        "    plt.xticks([])\n",
        "    plt.yticks([])\n",
        "\n",
        "    plt.imshow(img, cmap=plt.cm.binary)\n",
        "    predicted_label = np.argmax(predictions_array)\n",
        "    if predicted_label == true_label:\n",
        "        color = 'blue'\n",
        "    else:\n",
        "        color = 'red'\n",
        "\n",
        "    plt.xlabel(\"{} {:2.0f}% ({})\".format(class_names[predicted_label],\n",
        "                                100*np.max(predictions_array),\n",
        "                                class_names[true_label]),\n",
        "                                color=color)\n",
        "#Plot \n",
        "def plot_value_array(i, predictions_array, true_label):\n",
        "    predictions_array, true_label = predictions_array[i], true_label[i]\n",
        "    plt.grid(False)\n",
        "    plt.xticks([])\n",
        "    plt.yticks([])\n",
        "    thisplot = plt.bar(range(10), predictions_array, color='gray')\n",
        "    plt.ylim([0,1])\n",
        "    predicted_label = np.argmax(predictions_array)\n",
        "    _ = plt.xticks(range(10), class_names, rotation=45)\n",
        "\n",
        "    thisplot[predicted_label].set_color('red')\n",
        "    thisplot[true_label].set_color('blue')"
      ]
    },
    {
      "cell_type": "code",
      "execution_count": null,
      "metadata": {
        "id": "KJf4eAu7hgYI",
        "outputId": "14d3ee52-3a74-466e-e2c9-6a23632f47a0",
        "scrolled": true,
        "colab": {
          "base_uri": "https://localhost:8080/",
          "height": 246
        }
      },
      "outputs": [
        {
          "output_type": "display_data",
          "data": {
            "text/plain": [
              "<Figure size 432x216 with 2 Axes>"
            ],
            "image/png": "[encoded data removed]"
          },
          "metadata": {
            "needs_background": "light"
          }
        }
      ],
      "source": [
        "i = 1 # Which index to check the result?\n",
        "plt.figure(figsize=(6,3))\n",
        "\n",
        "# Plot the image and predicted class / true class\n",
        "plt.subplot(1,2,1)\n",
        "plot_image(i, predictions, y_test, x_test)\n",
        "\n",
        "#Plot predicted probability\n",
        "plt.subplot(1,2,2)\n",
        "plot_value_array(i, predictions, y_test)\n",
        "plt.show()"
      ]
    }
  ],
  "metadata": {
    "colab": {
      "provenance": [],
      "include_colab_link": true
    },
    "kernelspec": {
      "display_name": "Python 3 (ipykernel)",
      "language": "python",
      "name": "python3"
    },
    "language_info": {
      "codemirror_mode": {
        "name": "ipython",
        "version": 3
      },
      "file_extension": ".py",
      "mimetype": "text/x-python",
      "name": "python",
      "nbconvert_exporter": "python",
      "pygments_lexer": "ipython3",
      "version": "3.8.0"
    }
  },
  "nbformat": 4,
  "nbformat_minor": 0
}